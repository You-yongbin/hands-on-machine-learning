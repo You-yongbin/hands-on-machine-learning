{
 "cells": [
  {
   "cell_type": "code",
   "execution_count": 1,
   "id": "ebc1f1bf",
   "metadata": {},
   "outputs": [
    {
     "name": "stdout",
     "output_type": "stream",
     "text": [
      "(70000, 784) (70000,)\n"
     ]
    }
   ],
   "source": [
    "# mnist import \n",
    "\n",
    "from __future__ import division, print_function, unicode_literals\n",
    "\n",
    "\n",
    "import pandas as pd\n",
    "import numpy as np\n",
    "import os\n",
    "np.random.seed(42)\n",
    "%matplotlib inline\n",
    "import matplotlib\n",
    "import matplotlib.pyplot as plt\n",
    "from sklearn.metrics import confusion_matrix\n",
    "\n",
    "plt.rcParams['axes.labelsize'] = 14\n",
    "plt.rcParams['xtick.labelsize'] = 12\n",
    "plt.rcParams['ytick.labelsize'] = 12\n",
    "\n",
    "# 한글출력\n",
    "matplotlib.rc('font', family='NanumBarunGothic')\n",
    "plt.rcParams['axes.unicode_minus'] = False\n",
    "\n",
    "# 그림을 저장할 폴드\n",
    "PROJECT_ROOT_DIR = \".\"\n",
    "CHAPTER_ID = \"classification\"\n",
    "\n",
    "def save_fig(fig_id, tight_layout=True):\n",
    "    path = os.path.join(PROJECT_ROOT_DIR, \"images\", CHAPTER_ID, fig_id + \".png\")\n",
    "    if tight_layout:\n",
    "        plt.tight_layout()\n",
    "    plt.savefig(path, format='png', dpi=300)\n",
    "    \n",
    "from sklearn.datasets import fetch_openml\n",
    "mnist = fetch_openml(\"mnist_784\", as_frame=False)\n",
    "\n",
    "X, y = mnist.data, mnist.target\n",
    "print(X.shape, y.shape)\n",
    "y = y.astype(np.int8)"
   ]
  },
  {
   "cell_type": "code",
   "execution_count": 31,
   "id": "6b0c260f",
   "metadata": {},
   "outputs": [],
   "source": [
    "import pandas as pd\n",
    "from sklearn.ensemble import RandomForestClassifier\n",
    "from sklearn.model_selection import train_test_split\n",
    "from sklearn.metrics import confusion_matrix, classification_report\n",
    "\n",
    "data = pd.read_csv(\"datasets/diabetes/train.csv\")"
   ]
  },
  {
   "cell_type": "code",
   "execution_count": 9,
   "id": "ef2599eb",
   "metadata": {},
   "outputs": [
    {
     "name": "stdout",
     "output_type": "stream",
     "text": [
      "<class 'pandas.core.frame.DataFrame'>\n",
      "RangeIndex: 614 entries, 0 to 613\n",
      "Data columns (total 10 columns):\n",
      " #   Column                 Non-Null Count  Dtype  \n",
      "---  ------                 --------------  -----  \n",
      " 0   p_id                   614 non-null    int64  \n",
      " 1   no_times_pregnant      614 non-null    int64  \n",
      " 2   glucose_concentration  614 non-null    int64  \n",
      " 3   blood_pressure         614 non-null    int64  \n",
      " 4   skin_fold_thickness    614 non-null    int64  \n",
      " 5   serum_insulin          614 non-null    int64  \n",
      " 6   bmi                    614 non-null    float64\n",
      " 7   diabetes pedigree      614 non-null    float64\n",
      " 8   age                    614 non-null    int64  \n",
      " 9   diabetes               614 non-null    int64  \n",
      "dtypes: float64(2), int64(8)\n",
      "memory usage: 48.1 KB\n"
     ]
    }
   ],
   "source": [
    "data.info()"
   ]
  },
  {
   "cell_type": "code",
   "execution_count": 10,
   "id": "4a5788fc",
   "metadata": {},
   "outputs": [
    {
     "data": {
      "text/html": [
       "<div>\n",
       "<style scoped>\n",
       "    .dataframe tbody tr th:only-of-type {\n",
       "        vertical-align: middle;\n",
       "    }\n",
       "\n",
       "    .dataframe tbody tr th {\n",
       "        vertical-align: top;\n",
       "    }\n",
       "\n",
       "    .dataframe thead th {\n",
       "        text-align: right;\n",
       "    }\n",
       "</style>\n",
       "<table border=\"1\" class=\"dataframe\">\n",
       "  <thead>\n",
       "    <tr style=\"text-align: right;\">\n",
       "      <th></th>\n",
       "      <th>p_id</th>\n",
       "      <th>no_times_pregnant</th>\n",
       "      <th>glucose_concentration</th>\n",
       "      <th>blood_pressure</th>\n",
       "      <th>skin_fold_thickness</th>\n",
       "      <th>serum_insulin</th>\n",
       "      <th>bmi</th>\n",
       "      <th>diabetes pedigree</th>\n",
       "      <th>age</th>\n",
       "      <th>diabetes</th>\n",
       "    </tr>\n",
       "  </thead>\n",
       "  <tbody>\n",
       "    <tr>\n",
       "      <th>count</th>\n",
       "      <td>614.000000</td>\n",
       "      <td>614.000000</td>\n",
       "      <td>614.000000</td>\n",
       "      <td>614.000000</td>\n",
       "      <td>614.000000</td>\n",
       "      <td>614.000000</td>\n",
       "      <td>614.000000</td>\n",
       "      <td>614.000000</td>\n",
       "      <td>614.000000</td>\n",
       "      <td>614.000000</td>\n",
       "    </tr>\n",
       "    <tr>\n",
       "      <th>mean</th>\n",
       "      <td>385.773616</td>\n",
       "      <td>3.853420</td>\n",
       "      <td>120.542345</td>\n",
       "      <td>68.765472</td>\n",
       "      <td>20.244300</td>\n",
       "      <td>79.355049</td>\n",
       "      <td>31.909935</td>\n",
       "      <td>0.466342</td>\n",
       "      <td>33.325733</td>\n",
       "      <td>0.348534</td>\n",
       "    </tr>\n",
       "    <tr>\n",
       "      <th>std</th>\n",
       "      <td>223.603024</td>\n",
       "      <td>3.358126</td>\n",
       "      <td>31.252286</td>\n",
       "      <td>19.914836</td>\n",
       "      <td>15.886083</td>\n",
       "      <td>117.709950</td>\n",
       "      <td>8.007699</td>\n",
       "      <td>0.331090</td>\n",
       "      <td>11.929569</td>\n",
       "      <td>0.476895</td>\n",
       "    </tr>\n",
       "    <tr>\n",
       "      <th>min</th>\n",
       "      <td>1.000000</td>\n",
       "      <td>0.000000</td>\n",
       "      <td>0.000000</td>\n",
       "      <td>0.000000</td>\n",
       "      <td>0.000000</td>\n",
       "      <td>0.000000</td>\n",
       "      <td>0.000000</td>\n",
       "      <td>0.078000</td>\n",
       "      <td>21.000000</td>\n",
       "      <td>0.000000</td>\n",
       "    </tr>\n",
       "    <tr>\n",
       "      <th>25%</th>\n",
       "      <td>191.250000</td>\n",
       "      <td>1.000000</td>\n",
       "      <td>99.000000</td>\n",
       "      <td>62.000000</td>\n",
       "      <td>0.000000</td>\n",
       "      <td>0.000000</td>\n",
       "      <td>27.300000</td>\n",
       "      <td>0.240250</td>\n",
       "      <td>24.000000</td>\n",
       "      <td>0.000000</td>\n",
       "    </tr>\n",
       "    <tr>\n",
       "      <th>50%</th>\n",
       "      <td>387.000000</td>\n",
       "      <td>3.000000</td>\n",
       "      <td>117.000000</td>\n",
       "      <td>72.000000</td>\n",
       "      <td>23.000000</td>\n",
       "      <td>17.000000</td>\n",
       "      <td>32.000000</td>\n",
       "      <td>0.361000</td>\n",
       "      <td>29.000000</td>\n",
       "      <td>0.000000</td>\n",
       "    </tr>\n",
       "    <tr>\n",
       "      <th>75%</th>\n",
       "      <td>572.750000</td>\n",
       "      <td>6.000000</td>\n",
       "      <td>139.000000</td>\n",
       "      <td>80.000000</td>\n",
       "      <td>32.000000</td>\n",
       "      <td>126.000000</td>\n",
       "      <td>36.600000</td>\n",
       "      <td>0.613500</td>\n",
       "      <td>41.000000</td>\n",
       "      <td>1.000000</td>\n",
       "    </tr>\n",
       "    <tr>\n",
       "      <th>max</th>\n",
       "      <td>768.000000</td>\n",
       "      <td>17.000000</td>\n",
       "      <td>197.000000</td>\n",
       "      <td>114.000000</td>\n",
       "      <td>63.000000</td>\n",
       "      <td>846.000000</td>\n",
       "      <td>59.400000</td>\n",
       "      <td>2.420000</td>\n",
       "      <td>81.000000</td>\n",
       "      <td>1.000000</td>\n",
       "    </tr>\n",
       "  </tbody>\n",
       "</table>\n",
       "</div>"
      ],
      "text/plain": [
       "             p_id  no_times_pregnant  glucose_concentration  blood_pressure  \\\n",
       "count  614.000000         614.000000             614.000000      614.000000   \n",
       "mean   385.773616           3.853420             120.542345       68.765472   \n",
       "std    223.603024           3.358126              31.252286       19.914836   \n",
       "min      1.000000           0.000000               0.000000        0.000000   \n",
       "25%    191.250000           1.000000              99.000000       62.000000   \n",
       "50%    387.000000           3.000000             117.000000       72.000000   \n",
       "75%    572.750000           6.000000             139.000000       80.000000   \n",
       "max    768.000000          17.000000             197.000000      114.000000   \n",
       "\n",
       "       skin_fold_thickness  serum_insulin         bmi  diabetes pedigree  \\\n",
       "count           614.000000     614.000000  614.000000         614.000000   \n",
       "mean             20.244300      79.355049   31.909935           0.466342   \n",
       "std              15.886083     117.709950    8.007699           0.331090   \n",
       "min               0.000000       0.000000    0.000000           0.078000   \n",
       "25%               0.000000       0.000000   27.300000           0.240250   \n",
       "50%              23.000000      17.000000   32.000000           0.361000   \n",
       "75%              32.000000     126.000000   36.600000           0.613500   \n",
       "max              63.000000     846.000000   59.400000           2.420000   \n",
       "\n",
       "              age    diabetes  \n",
       "count  614.000000  614.000000  \n",
       "mean    33.325733    0.348534  \n",
       "std     11.929569    0.476895  \n",
       "min     21.000000    0.000000  \n",
       "25%     24.000000    0.000000  \n",
       "50%     29.000000    0.000000  \n",
       "75%     41.000000    1.000000  \n",
       "max     81.000000    1.000000  "
      ]
     },
     "execution_count": 10,
     "metadata": {},
     "output_type": "execute_result"
    }
   ],
   "source": [
    "data.describe()"
   ]
  },
  {
   "cell_type": "code",
   "execution_count": 39,
   "id": "ca61d2c7",
   "metadata": {},
   "outputs": [
    {
     "data": {
      "text/plain": [
       "0      0.315\n",
       "1      0.254\n",
       "2      0.674\n",
       "3      1.162\n",
       "4      0.549\n",
       "       ...  \n",
       "609    0.398\n",
       "610    0.471\n",
       "611    0.141\n",
       "612    0.262\n",
       "613    0.100\n",
       "Name: diabetes pedigree, Length: 614, dtype: float64"
      ]
     },
     "execution_count": 39,
     "metadata": {},
     "output_type": "execute_result"
    }
   ],
   "source": [
    "data[\"diabetes pedigree\"]"
   ]
  },
  {
   "cell_type": "code",
   "execution_count": 42,
   "id": "f11e6b36",
   "metadata": {},
   "outputs": [
    {
     "data": {
      "text/plain": [
       "0      0\n",
       "1      1\n",
       "2      1\n",
       "3      0\n",
       "4      1\n",
       "      ..\n",
       "609    1\n",
       "610    0\n",
       "611    0\n",
       "612    0\n",
       "613    0\n",
       "Name: diabetes, Length: 614, dtype: int64"
      ]
     },
     "execution_count": 42,
     "metadata": {},
     "output_type": "execute_result"
    }
   ],
   "source": [
    "X = data.drop(\"diabetes\", axis=1)\n",
    "y = data['diabetes']\n",
    "y"
   ]
  },
  {
   "cell_type": "code",
   "execution_count": 54,
   "id": "d246c9a8",
   "metadata": {},
   "outputs": [
    {
     "data": {
      "text/plain": [
       "0    400\n",
       "1    214\n",
       "Name: diabetes, dtype: int64"
      ]
     },
     "execution_count": 54,
     "metadata": {},
     "output_type": "execute_result"
    }
   ],
   "source": [
    "y.value_counts()"
   ]
  },
  {
   "cell_type": "code",
   "execution_count": 33,
   "id": "7835466b",
   "metadata": {},
   "outputs": [],
   "source": [
    "X_train, X_test, y_train, y_test = train_test_split(X, y, test_size=0.33, random_state=42)"
   ]
  },
  {
   "cell_type": "code",
   "execution_count": 34,
   "id": "790b3244",
   "metadata": {},
   "outputs": [
    {
     "data": {
      "text/plain": [
       "RandomForestClassifier()"
      ]
     },
     "execution_count": 34,
     "metadata": {},
     "output_type": "execute_result"
    }
   ],
   "source": [
    "rfc = RandomForestClassifier()\n",
    "rfc.fit(X_train, y_train)"
   ]
  },
  {
   "cell_type": "code",
   "execution_count": 35,
   "id": "2a99ce24",
   "metadata": {},
   "outputs": [],
   "source": [
    "pred = rfc.predict(X_test)"
   ]
  },
  {
   "cell_type": "code",
   "execution_count": 36,
   "id": "605c16c0",
   "metadata": {
    "scrolled": true
   },
   "outputs": [
    {
     "data": {
      "text/plain": [
       "array([0, 0, 0, 1, 0, 0, 0, 0, 1, 1, 1, 1, 1, 0, 0, 1, 1, 0, 0, 1, 0, 0,\n",
       "       0, 0, 1, 0, 0, 0, 0, 0, 0, 0, 0, 0, 1, 1, 1, 1, 0, 0, 0, 0, 1, 1,\n",
       "       0, 0, 0, 0, 0, 0, 0, 0, 0, 0, 0, 0, 1, 0, 0, 1, 0, 1, 0, 1, 0, 1,\n",
       "       0, 0, 0, 0, 1, 0, 1, 0, 1, 0, 1, 1, 0, 1, 0, 0, 0, 1, 0, 1, 0, 0,\n",
       "       0, 0, 0, 1, 0, 1, 0, 0, 0, 0, 1, 0, 0, 0, 0, 1, 0, 0, 0, 0, 0, 0,\n",
       "       1, 0, 0, 0, 0, 0, 0, 0, 0, 0, 1, 1, 0, 0, 0, 0, 0, 0, 1, 0, 1, 0,\n",
       "       0, 0, 1, 0, 1, 0, 0, 0, 0, 0, 0, 0, 0, 1, 0, 0, 0, 1, 1, 1, 0, 0,\n",
       "       0, 0, 0, 0, 0, 1, 0, 1, 0, 0, 0, 0, 0, 1, 0, 0, 0, 0, 0, 0, 1, 0,\n",
       "       0, 0, 0, 1, 1, 1, 1, 0, 0, 0, 0, 0, 1, 0, 0, 0, 0, 0, 0, 0, 1, 0,\n",
       "       1, 0, 0, 1, 1], dtype=int64)"
      ]
     },
     "execution_count": 36,
     "metadata": {},
     "output_type": "execute_result"
    }
   ],
   "source": [
    "pred"
   ]
  },
  {
   "cell_type": "markdown",
   "id": "3ee930bd",
   "metadata": {},
   "source": [
    "## confusion matrix 관점"
   ]
  },
  {
   "cell_type": "code",
   "execution_count": 37,
   "id": "145c9d86",
   "metadata": {
    "scrolled": true
   },
   "outputs": [
    {
     "name": "stdout",
     "output_type": "stream",
     "text": [
      "[[115  31]\n",
      " [ 16  41]]\n"
     ]
    }
   ],
   "source": [
    "conf_matrix = confusion_matrix(pred, y_test)\n",
    "print(conf_matrix)"
   ]
  },
  {
   "cell_type": "markdown",
   "id": "d073a07a",
   "metadata": {},
   "source": [
    "## accuracy 관점"
   ]
  },
  {
   "cell_type": "code",
   "execution_count": 38,
   "id": "77152491",
   "metadata": {},
   "outputs": [
    {
     "data": {
      "text/plain": [
       "array([0.75912409, 0.75912409, 0.74452555])"
      ]
     },
     "execution_count": 38,
     "metadata": {},
     "output_type": "execute_result"
    }
   ],
   "source": [
    "from sklearn.model_selection import cross_val_score\n",
    "\n",
    "cross_val_score(rfc, X_train, y_train, cv=3, scoring=\"accuracy\")"
   ]
  },
  {
   "cell_type": "code",
   "execution_count": 55,
   "id": "a0c28515",
   "metadata": {
    "scrolled": true
   },
   "outputs": [
    {
     "data": {
      "text/plain": [
       "array([[115,  31],\n",
       "       [ 16,  41]], dtype=int64)"
      ]
     },
     "execution_count": 55,
     "metadata": {},
     "output_type": "execute_result"
    }
   ],
   "source": [
    "conf_matrix"
   ]
  },
  {
   "cell_type": "code",
   "execution_count": 78,
   "id": "1084a3ce",
   "metadata": {},
   "outputs": [
    {
     "name": "stdout",
     "output_type": "stream",
     "text": [
      "precision, recall and f1-score for label 0\n",
      "The precision for label 0 is: 0.88\n",
      "The recall for label 0 is: 0.79\n",
      "The f1-score for label 0 is: 0.83\n",
      "\n",
      "\n"
     ]
    }
   ],
   "source": [
    "tp = conf_matrix[0,0]\n",
    "fp = conf_matrix[1,0]\n",
    "fn = conf_matrix[0,1]\n",
    "\n",
    "precision  = tp / (tp + fp)\n",
    "recall     = tp / (tp + fn)\n",
    "f1_score   = 2*( precision * recall)/(precision + recall)\n",
    "\n",
    "print('precision, recall and f1-score for label 0')\n",
    "print('The precision for label 0 is: {0:.2f}'.format(precision))\n",
    "print('The recall for label 0 is: {0:.2f}'.format(recall))\n",
    "print('The f1-score for label 0 is: {0:.2f}'.format(f1_score))\n",
    "print('\\n')"
   ]
  },
  {
   "cell_type": "code",
   "execution_count": 79,
   "id": "1af0a8d1",
   "metadata": {
    "scrolled": true
   },
   "outputs": [
    {
     "name": "stdout",
     "output_type": "stream",
     "text": [
      "precision, recall and f1-score for label 1\n",
      "The precision for label 1 is: 0.57\n",
      "The recall for label 1 is: 0.72\n",
      "The f1-score for label 1 is: 0.64\n"
     ]
    }
   ],
   "source": [
    "tp = conf_matrix[1,1]\n",
    "fp = conf_matrix[0,1]\n",
    "fn = conf_matrix[1,0]\n",
    "\n",
    "precision  = tp / (tp + fp)\n",
    "recall     = tp / (tp + fn)\n",
    "f1_score   = 2*( precision * recall)/(precision + recall)\n",
    "\n",
    "print('precision, recall and f1-score for label 1')\n",
    "print('The precision for label 1 is: {0:.2f}'.format(precision))\n",
    "print('The recall for label 1 is: {0:.2f}'.format(recall))\n",
    "print('The f1-score for label 1 is: {0:.2f}'.format(f1_score))"
   ]
  },
  {
   "cell_type": "code",
   "execution_count": 80,
   "id": "2b1bdc62",
   "metadata": {},
   "outputs": [
    {
     "name": "stdout",
     "output_type": "stream",
     "text": [
      "              precision    recall  f1-score   support\n",
      "\n",
      "           0       0.88      0.79      0.83       146\n",
      "           1       0.57      0.72      0.64        57\n",
      "\n",
      "    accuracy                           0.77       203\n",
      "   macro avg       0.72      0.75      0.73       203\n",
      "weighted avg       0.79      0.77      0.78       203\n",
      "\n"
     ]
    }
   ],
   "source": [
    "print(classification_report(pred,y_test))"
   ]
  },
  {
   "cell_type": "code",
   "execution_count": 77,
   "id": "c64135b6",
   "metadata": {},
   "outputs": [
    {
     "data": {
      "text/plain": [
       "0.7192982456140351"
      ]
     },
     "execution_count": 77,
     "metadata": {},
     "output_type": "execute_result"
    }
   ],
   "source": [
    "from sklearn.metrics import precision_score, recall_score\n",
    "\n",
    "precision_score(y_test, pred)"
   ]
  },
  {
   "cell_type": "code",
   "execution_count": 58,
   "id": "4dd8b7d8",
   "metadata": {},
   "outputs": [
    {
     "data": {
      "text/plain": [
       "0.5694444444444444"
      ]
     },
     "execution_count": 58,
     "metadata": {},
     "output_type": "execute_result"
    }
   ],
   "source": [
    "recall_score(y_test, pred)"
   ]
  },
  {
   "cell_type": "code",
   "execution_count": 59,
   "id": "eb088c60",
   "metadata": {},
   "outputs": [
    {
     "data": {
      "text/plain": [
       "0.6356589147286822"
      ]
     },
     "execution_count": 59,
     "metadata": {},
     "output_type": "execute_result"
    }
   ],
   "source": [
    "from sklearn.metrics import f1_score\n",
    "\n",
    "f1_score(y_test, pred)"
   ]
  },
  {
   "cell_type": "markdown",
   "id": "381c01e6",
   "metadata": {},
   "source": [
    "# ROC"
   ]
  },
  {
   "cell_type": "code",
   "execution_count": 64,
   "id": "4c7d6194",
   "metadata": {},
   "outputs": [],
   "source": [
    "from sklearn.model_selection import cross_val_predict\n",
    "\n",
    "forest_clf = RandomForestClassifier(random_state=42)\n",
    "y_probas_forest = cross_val_predict(forest_clf, X_train, y_train, cv=3, method=\"predict_proba\")"
   ]
  },
  {
   "cell_type": "code",
   "execution_count": 67,
   "id": "3438d1b6",
   "metadata": {},
   "outputs": [],
   "source": [
    "y_scores_forest = y_probas_forest[:, 1]"
   ]
  },
  {
   "cell_type": "code",
   "execution_count": 73,
   "id": "ca4422f5",
   "metadata": {},
   "outputs": [],
   "source": [
    "from sklearn.metrics import roc_curve\n",
    "\n",
    "fpr, tpr, thresholds = roc_curve(y_train, y_scores_forest)"
   ]
  },
  {
   "cell_type": "code",
   "execution_count": 74,
   "id": "243f924a",
   "metadata": {},
   "outputs": [
    {
     "data": {
      "text/plain": [
       "array([0.        , 0.        , 0.        , 0.00743494, 0.00743494,\n",
       "       0.01115242, 0.01115242, 0.01486989, 0.01486989, 0.01858736,\n",
       "       0.01858736, 0.02230483, 0.0260223 , 0.0260223 , 0.04089219,\n",
       "       0.04460967, 0.04832714, 0.05204461, 0.05947955, 0.06319703,\n",
       "       0.07063197, 0.07806691, 0.08178439, 0.08178439, 0.08550186,\n",
       "       0.08550186, 0.08550186, 0.0929368 , 0.10037175, 0.10408922,\n",
       "       0.11524164, 0.11895911, 0.12639405, 0.13011152, 0.13011152,\n",
       "       0.13754647, 0.14498141, 0.14869888, 0.16356877, 0.17472119,\n",
       "       0.18587361, 0.19330855, 0.20817844, 0.21189591, 0.2267658 ,\n",
       "       0.23791822, 0.25650558, 0.26394052, 0.26765799, 0.27509294,\n",
       "       0.28996283, 0.2936803 , 0.30111524, 0.31226766, 0.3197026 ,\n",
       "       0.32713755, 0.34200743, 0.35315985, 0.3605948 , 0.36802974,\n",
       "       0.37174721, 0.37918216, 0.40892193, 0.42750929, 0.43866171,\n",
       "       0.44609665, 0.46840149, 0.4795539 , 0.49814126, 0.52788104,\n",
       "       0.55390335, 0.56877323, 0.58364312, 0.60223048, 0.63197026,\n",
       "       0.65055762, 0.6802974 , 0.69888476, 0.75092937, 0.78810409,\n",
       "       0.83271375, 0.87360595, 0.9070632 , 0.9330855 , 0.9739777 ,\n",
       "       1.        ])"
      ]
     },
     "execution_count": 74,
     "metadata": {},
     "output_type": "execute_result"
    }
   ],
   "source": [
    "fpr"
   ]
  },
  {
   "cell_type": "code",
   "execution_count": 75,
   "id": "619b9f0a",
   "metadata": {},
   "outputs": [
    {
     "data": {
      "text/plain": [
       "array([0.        , 0.00704225, 0.01408451, 0.02112676, 0.03521127,\n",
       "       0.06338028, 0.07042254, 0.08450704, 0.09859155, 0.11267606,\n",
       "       0.12676056, 0.16197183, 0.16901408, 0.21126761, 0.21126761,\n",
       "       0.23239437, 0.23239437, 0.25352113, 0.27464789, 0.30985915,\n",
       "       0.32394366, 0.32394366, 0.32394366, 0.34507042, 0.35915493,\n",
       "       0.41549296, 0.42957746, 0.44366197, 0.45070423, 0.46478873,\n",
       "       0.47887324, 0.50704225, 0.51408451, 0.51408451, 0.52816901,\n",
       "       0.55633803, 0.56338028, 0.57042254, 0.57746479, 0.58450704,\n",
       "       0.59859155, 0.61267606, 0.61267606, 0.61971831, 0.61971831,\n",
       "       0.63380282, 0.63380282, 0.65492958, 0.66901408, 0.68309859,\n",
       "       0.69014085, 0.70422535, 0.73239437, 0.73239437, 0.73943662,\n",
       "       0.75352113, 0.76056338, 0.77464789, 0.78873239, 0.79577465,\n",
       "       0.80985915, 0.81690141, 0.84507042, 0.84507042, 0.86619718,\n",
       "       0.87323944, 0.87323944, 0.88028169, 0.88732394, 0.88732394,\n",
       "       0.8943662 , 0.9084507 , 0.9084507 , 0.91549296, 0.93661972,\n",
       "       0.94366197, 0.95070423, 0.95774648, 0.97183099, 0.97887324,\n",
       "       0.98591549, 0.98591549, 0.98591549, 0.99295775, 1.        ,\n",
       "       1.        ])"
      ]
     },
     "execution_count": 75,
     "metadata": {},
     "output_type": "execute_result"
    }
   ],
   "source": [
    "tpr"
   ]
  },
  {
   "cell_type": "code",
   "execution_count": null,
   "id": "0d43bfd3",
   "metadata": {},
   "outputs": [],
   "source": []
  }
 ],
 "metadata": {
  "kernelspec": {
   "display_name": "Python 3 (ipykernel)",
   "language": "python",
   "name": "python3"
  },
  "language_info": {
   "codemirror_mode": {
    "name": "ipython",
    "version": 3
   },
   "file_extension": ".py",
   "mimetype": "text/x-python",
   "name": "python",
   "nbconvert_exporter": "python",
   "pygments_lexer": "ipython3",
   "version": "3.9.7"
  }
 },
 "nbformat": 4,
 "nbformat_minor": 5
}
