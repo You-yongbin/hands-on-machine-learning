{
 "cells": [
  {
   "cell_type": "code",
   "execution_count": 5,
   "id": "368647aa",
   "metadata": {},
   "outputs": [],
   "source": [
    "import numpy as np\n",
    "import pandas as pd\n",
    "import matplotlib.pyplot as plt"
   ]
  },
  {
   "cell_type": "markdown",
   "id": "369ab682",
   "metadata": {},
   "source": [
    "### 선형회귀"
   ]
  },
  {
   "cell_type": "code",
   "execution_count": 3,
   "id": "0f459388",
   "metadata": {},
   "outputs": [],
   "source": [
    "X = 2 * np.random.rand(100, 1)\n",
    "y = 4 + 3 * X + np.random.randn(100, 1)"
   ]
  },
  {
   "cell_type": "code",
   "execution_count": 9,
   "id": "e3ca4fd8",
   "metadata": {},
   "outputs": [
    {
     "data": {
      "text/plain": [
       "array([[ 7.33316849],\n",
       "       [ 5.21824979],\n",
       "       [ 7.21610046],\n",
       "       [ 5.93571766],\n",
       "       [ 4.23033519],\n",
       "       [ 8.27572701],\n",
       "       [ 9.87487792],\n",
       "       [ 5.46637631],\n",
       "       [ 3.62707598],\n",
       "       [ 5.3779439 ],\n",
       "       [ 7.89082871],\n",
       "       [ 5.46228008],\n",
       "       [ 7.60942895],\n",
       "       [ 9.75050132],\n",
       "       [ 6.59729246],\n",
       "       [ 6.36306598],\n",
       "       [ 4.68321174],\n",
       "       [ 6.34453362],\n",
       "       [ 7.98622026],\n",
       "       [ 4.68712403],\n",
       "       [ 8.36478324],\n",
       "       [ 5.20950473],\n",
       "       [ 6.29463597],\n",
       "       [ 4.0564343 ],\n",
       "       [ 7.70030029],\n",
       "       [ 6.09832026],\n",
       "       [ 9.15223564],\n",
       "       [ 8.81059947],\n",
       "       [ 4.486853  ],\n",
       "       [ 5.78878759],\n",
       "       [ 7.6483061 ],\n",
       "       [10.08552645],\n",
       "       [ 8.46200177],\n",
       "       [ 8.42620957],\n",
       "       [ 7.22010639],\n",
       "       [ 7.03092278],\n",
       "       [ 9.02194761],\n",
       "       [ 9.69954937],\n",
       "       [ 7.90995806],\n",
       "       [ 3.55764801],\n",
       "       [ 9.24556439],\n",
       "       [ 9.41359326],\n",
       "       [ 5.21086944],\n",
       "       [ 6.51181542],\n",
       "       [ 6.58401273],\n",
       "       [ 9.31313127],\n",
       "       [ 7.53366939],\n",
       "       [ 9.78784347],\n",
       "       [ 7.34074969],\n",
       "       [ 7.23588982],\n",
       "       [ 6.76082237],\n",
       "       [ 5.36524148],\n",
       "       [ 9.32544503],\n",
       "       [ 8.47439945],\n",
       "       [ 9.44943136],\n",
       "       [ 6.11762789],\n",
       "       [ 7.08741299],\n",
       "       [ 6.48275792],\n",
       "       [10.24825282],\n",
       "       [ 6.12557533],\n",
       "       [ 9.44368438],\n",
       "       [ 8.8060541 ],\n",
       "       [ 5.73294039],\n",
       "       [ 4.12663465],\n",
       "       [ 8.18369429],\n",
       "       [ 8.70644272],\n",
       "       [ 7.93847119],\n",
       "       [ 9.40869439],\n",
       "       [ 6.68005685],\n",
       "       [ 7.9922914 ],\n",
       "       [10.04648302],\n",
       "       [ 6.94320145],\n",
       "       [ 5.24546714],\n",
       "       [ 9.58859662],\n",
       "       [ 9.78760979],\n",
       "       [ 5.00360157],\n",
       "       [ 3.86237092],\n",
       "       [ 7.68467833],\n",
       "       [ 5.60614856],\n",
       "       [ 7.37388957],\n",
       "       [ 6.08740899],\n",
       "       [ 6.14810372],\n",
       "       [ 6.17807684],\n",
       "       [ 9.4319726 ],\n",
       "       [ 4.80594833],\n",
       "       [ 6.24483437],\n",
       "       [ 6.2734115 ],\n",
       "       [ 4.36761089],\n",
       "       [ 8.31582294],\n",
       "       [ 4.07181754],\n",
       "       [ 5.81346313],\n",
       "       [ 4.46386434],\n",
       "       [ 7.21586102],\n",
       "       [ 5.28370759],\n",
       "       [ 4.57815709],\n",
       "       [ 7.67860225],\n",
       "       [ 6.17412047],\n",
       "       [ 7.77454749],\n",
       "       [ 7.55297836],\n",
       "       [ 6.41023665]])"
      ]
     },
     "execution_count": 9,
     "metadata": {},
     "output_type": "execute_result"
    }
   ],
   "source": [
    "y"
   ]
  },
  {
   "cell_type": "code",
   "execution_count": 7,
   "id": "368d8c98",
   "metadata": {},
   "outputs": [
    {
     "data": {
      "image/png": "[encoded data removed]",
      "text/plain": [
       "<Figure size 432x288 with 1 Axes>"
      ]
     },
     "metadata": {
      "needs_background": "light"
     },
     "output_type": "display_data"
    }
   ],
   "source": [
    "plt.plot(X, y, \"b.\")\n",
    "plt.xlabel(\"$x_1$\", fontsize=18)\n",
    "plt.ylabel(\"$y$\", rotation=0, fontsize=18)\n",
    "plt.axis([0, 2, 0, 15])\n",
    "plt.show()"
   ]
  },
  {
   "cell_type": "code",
   "execution_count": 10,
   "id": "4d306c36",
   "metadata": {},
   "outputs": [
    {
     "data": {
      "text/plain": [
       "array([[1.        , 0.79148744],\n",
       "       [1.        , 0.20003235],\n",
       "       [1.        , 0.44236611],\n",
       "       [1.        , 0.91176909],\n",
       "       [1.        , 0.74847138],\n",
       "       [1.        , 1.16114149],\n",
       "       [1.        , 1.94586886],\n",
       "       [1.        , 0.32813541],\n",
       "       [1.        , 0.44179521],\n",
       "       [1.        , 0.44450354],\n",
       "       [1.        , 0.97742648],\n",
       "       [1.        , 0.36767772],\n",
       "       [1.        , 1.30589106],\n",
       "       [1.        , 1.93197326],\n",
       "       [1.        , 0.30933363],\n",
       "       [1.        , 0.42099059],\n",
       "       [1.        , 0.30752904],\n",
       "       [1.        , 0.62004429],\n",
       "       [1.        , 1.55467734],\n",
       "       [1.        , 0.59635933],\n",
       "       [1.        , 0.96632489],\n",
       "       [1.        , 0.29407801],\n",
       "       [1.        , 0.86786633],\n",
       "       [1.        , 0.11317103],\n",
       "       [1.        , 1.04832148],\n",
       "       [1.        , 0.44854906],\n",
       "       [1.        , 1.86911455],\n",
       "       [1.        , 1.4193646 ],\n",
       "       [1.        , 0.23828788],\n",
       "       [1.        , 0.71671504],\n",
       "       [1.        , 0.72226724],\n",
       "       [1.        , 1.53263911],\n",
       "       [1.        , 1.23827104],\n",
       "       [1.        , 1.22290805],\n",
       "       [1.        , 1.07697358],\n",
       "       [1.        , 1.25242196],\n",
       "       [1.        , 1.53315471],\n",
       "       [1.        , 1.57894614],\n",
       "       [1.        , 1.55556332],\n",
       "       [1.        , 0.26217936],\n",
       "       [1.        , 1.93663191],\n",
       "       [1.        , 1.94694925],\n",
       "       [1.        , 0.58926179],\n",
       "       [1.        , 0.56042201],\n",
       "       [1.        , 1.79739711],\n",
       "       [1.        , 1.85399318],\n",
       "       [1.        , 1.97739305],\n",
       "       [1.        , 1.8975077 ],\n",
       "       [1.        , 0.4882612 ],\n",
       "       [1.        , 1.53000135],\n",
       "       [1.        , 1.50415482],\n",
       "       [1.        , 0.57126615],\n",
       "       [1.        , 1.32338104],\n",
       "       [1.        , 1.25026347],\n",
       "       [1.        , 1.95932827],\n",
       "       [1.        , 0.64268494],\n",
       "       [1.        , 0.81665559],\n",
       "       [1.        , 1.23642016],\n",
       "       [1.        , 1.58772051],\n",
       "       [1.        , 0.34061829],\n",
       "       [1.        , 1.56551654],\n",
       "       [1.        , 1.24945513],\n",
       "       [1.        , 0.07745128],\n",
       "       [1.        , 0.05681502],\n",
       "       [1.        , 1.76378691],\n",
       "       [1.        , 1.69410641],\n",
       "       [1.        , 1.73714885],\n",
       "       [1.        , 1.72874269],\n",
       "       [1.        , 1.32076317],\n",
       "       [1.        , 1.69927796],\n",
       "       [1.        , 1.69532338],\n",
       "       [1.        , 1.13277902],\n",
       "       [1.        , 0.5335327 ],\n",
       "       [1.        , 1.48018856],\n",
       "       [1.        , 1.97669674],\n",
       "       [1.        , 0.06251052],\n",
       "       [1.        , 0.64096985],\n",
       "       [1.        , 1.23721889],\n",
       "       [1.        , 1.0169018 ],\n",
       "       [1.        , 0.84954455],\n",
       "       [1.        , 0.81427257],\n",
       "       [1.        , 1.09724914],\n",
       "       [1.        , 1.09514319],\n",
       "       [1.        , 1.65090034],\n",
       "       [1.        , 0.32988332],\n",
       "       [1.        , 1.00466283],\n",
       "       [1.        , 0.25260904],\n",
       "       [1.        , 0.05057559],\n",
       "       [1.        , 1.33835988],\n",
       "       [1.        , 0.10597342],\n",
       "       [1.        , 1.07911174],\n",
       "       [1.        , 0.76384816],\n",
       "       [1.        , 0.9498996 ],\n",
       "       [1.        , 0.95428356],\n",
       "       [1.        , 0.72640865],\n",
       "       [1.        , 1.68790096],\n",
       "       [1.        , 0.84313986],\n",
       "       [1.        , 0.84343674],\n",
       "       [1.        , 0.76231358],\n",
       "       [1.        , 0.6925324 ]])"
      ]
     },
     "execution_count": 10,
     "metadata": {},
     "output_type": "execute_result"
    }
   ],
   "source": [
    "X_b = np.c_[np.ones((100,1)), X]\n",
    "X_b"
   ]
  },
  {
   "cell_type": "code",
   "execution_count": 11,
   "id": "dabfa6f8",
   "metadata": {},
   "outputs": [],
   "source": [
    "theta_best = np.linalg.inv(X_b.T.dot(X_b)).dot(X_b.T).dot(y)"
   ]
  },
  {
   "cell_type": "code",
   "execution_count": null,
   "id": "d000e47f",
   "metadata": {},
   "outputs": [],
   "source": [
    "# inv() : 역행렬 \n",
    "# dot() : 점곱\n"
   ]
  },
  {
   "cell_type": "code",
   "execution_count": 12,
   "id": "d1d85842",
   "metadata": {},
   "outputs": [
    {
     "data": {
      "text/plain": [
       "array([[4.38044822],\n",
       "       [2.5804337 ]])"
      ]
     },
     "execution_count": 12,
     "metadata": {},
     "output_type": "execute_result"
    }
   ],
   "source": [
    "theta_best"
   ]
  },
  {
   "cell_type": "code",
   "execution_count": null,
   "id": "0c40b910",
   "metadata": {},
   "outputs": [],
   "source": []
  }
 ],
 "metadata": {
  "kernelspec": {
   "display_name": "Python 3 (ipykernel)",
   "language": "python",
   "name": "python3"
  },
  "language_info": {
   "codemirror_mode": {
    "name": "ipython",
    "version": 3
   },
   "file_extension": ".py",
   "mimetype": "text/x-python",
   "name": "python",
   "nbconvert_exporter": "python",
   "pygments_lexer": "ipython3",
   "version": "3.9.7"
  }
 },
 "nbformat": 4,
 "nbformat_minor": 5
}
